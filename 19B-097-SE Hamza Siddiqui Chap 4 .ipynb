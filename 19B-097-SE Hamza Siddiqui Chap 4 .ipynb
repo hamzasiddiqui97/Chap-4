{
 "cells": [
  {
   "cell_type": "markdown",
   "metadata": {},
   "source": [
    "# QUESTION-4.12:"
   ]
  },
  {
   "cell_type": "code",
   "execution_count": 2,
   "metadata": {},
   "outputs": [
    {
     "name": "stdout",
     "output_type": "stream",
     "text": [
      "bcd\n"
     ]
    }
   ],
   "source": [
    "#A\n",
    "s='abcdefghijklmnopqrstuvwxyz'\n",
    "x=s[1:4]\n",
    "print(x)\n"
   ]
  },
  {
   "cell_type": "code",
   "execution_count": 3,
   "metadata": {},
   "outputs": [
    {
     "name": "stdout",
     "output_type": "stream",
     "text": [
      "abc\n"
     ]
    }
   ],
   "source": [
    "#B\n",
    "s='abcdefghijklmnopqrstuvwxyz'\n",
    "x=s[:3]\n",
    "print(x)"
   ]
  },
  {
   "cell_type": "code",
   "execution_count": 4,
   "metadata": {},
   "outputs": [
    {
     "name": "stdout",
     "output_type": "stream",
     "text": [
      "defghijklmnopqrstuvwx\n"
     ]
    }
   ],
   "source": [
    "#C\n",
    "s='abcdefghijklmnopqrstuvwxyz'\n",
    "x=s[3:24]\n",
    "print(x)"
   ]
  },
  {
   "cell_type": "code",
   "execution_count": 5,
   "metadata": {},
   "outputs": [
    {
     "name": "stdout",
     "output_type": "stream",
     "text": [
      "wxy\n"
     ]
    }
   ],
   "source": [
    "#D\n",
    "s='abcdefghijklmnopqrstuvwxyz'\n",
    "x=s[22:25]\n",
    "print(x)"
   ]
  },
  {
   "cell_type": "code",
   "execution_count": 6,
   "metadata": {},
   "outputs": [
    {
     "name": "stdout",
     "output_type": "stream",
     "text": [
      "wxyz\n"
     ]
    }
   ],
   "source": [
    "#E\n",
    "s='abcdefghijklmnopqrstuvwxyz'\n",
    "x=s[22:26]\n",
    "print(x)"
   ]
  },
  {
   "cell_type": "markdown",
   "metadata": {},
   "source": [
    "# QUESTION-4.13:"
   ]
  },
  {
   "cell_type": "code",
   "execution_count": 7,
   "metadata": {},
   "outputs": [
    {
     "name": "stdout",
     "output_type": "stream",
     "text": [
      "bc\n"
     ]
    }
   ],
   "source": [
    "#A\n",
    "s='abcdefghijklmnopqrstuvwxyz'\n",
    "x=s[1:3]\n",
    "print(x)"
   ]
  },
  {
   "cell_type": "code",
   "execution_count": 8,
   "metadata": {},
   "outputs": [
    {
     "name": "stdout",
     "output_type": "stream",
     "text": [
      "abcdefghijklmn\n"
     ]
    }
   ],
   "source": [
    "#B\n",
    "s='abcdefghijklmnopqrstuvwxyz'\n",
    "x=s[:14]\n",
    "print(x)"
   ]
  },
  {
   "cell_type": "code",
   "execution_count": 9,
   "metadata": {},
   "outputs": [
    {
     "name": "stdout",
     "output_type": "stream",
     "text": [
      "opqrstuvwxyz\n"
     ]
    }
   ],
   "source": [
    "#C\n",
    "s='abcdefghijklmnopqrstuvwxyz'\n",
    "x=s[14:26]\n",
    "print(x)"
   ]
  },
  {
   "cell_type": "code",
   "execution_count": 10,
   "metadata": {},
   "outputs": [
    {
     "name": "stdout",
     "output_type": "stream",
     "text": [
      "bcdefghijklmnopqrstuvw\n"
     ]
    }
   ],
   "source": [
    "#D\n",
    "s='abcdefghijklmnopqrstuvwxyz'\n",
    "x=s[1:23]\n",
    "print(x)"
   ]
  },
  {
   "cell_type": "markdown",
   "metadata": {},
   "source": [
    "# QUESTION 4.15:"
   ]
  },
  {
   "cell_type": "code",
   "execution_count": 11,
   "metadata": {},
   "outputs": [
    {
     "name": "stdout",
     "output_type": "stream",
     "text": [
      "['10', '20', '30', '40', '50', '60']\n"
     ]
    }
   ],
   "source": [
    "#A\n",
    "s='10 20 30 40 50 60'\n",
    "x=s.split(' ')\n",
    "print(x)"
   ]
  },
  {
   "cell_type": "code",
   "execution_count": 12,
   "metadata": {},
   "outputs": [
    {
     "name": "stdout",
     "output_type": "stream",
     "text": [
      "['10', '20', '30', '40', '50', '60']\n"
     ]
    }
   ],
   "source": [
    "#B\n",
    "s='10,20,30,40,50,60'\n",
    "x=s.split(',')\n",
    "print(x)"
   ]
  },
  {
   "cell_type": "code",
   "execution_count": 13,
   "metadata": {},
   "outputs": [
    {
     "name": "stdout",
     "output_type": "stream",
     "text": [
      "['10', '20', '30', '40', '50', '60']\n"
     ]
    }
   ],
   "source": [
    "#C\n",
    "s='10&20&30&40&50&60'\n",
    "x=s.split('&')\n",
    "print(x)"
   ]
  },
  {
   "cell_type": "code",
   "execution_count": 14,
   "metadata": {},
   "outputs": [
    {
     "name": "stdout",
     "output_type": "stream",
     "text": [
      "['10', '20', '30', '40', '50', '60']\n"
     ]
    }
   ],
   "source": [
    "#D\n",
    "s='10-20-30-40-50-60'\n",
    "x=s.split('-')\n",
    "print(x)"
   ]
  },
  {
   "cell_type": "markdown",
   "metadata": {},
   "source": [
    "# QUESTION 4.16:"
   ]
  },
  {
   "cell_type": "code",
   "execution_count": 15,
   "metadata": {},
   "outputs": [
    {
     "name": "stdout",
     "output_type": "stream",
     "text": [
      "Enter first word :  bass\n",
      "Enter second word :  salmon\n",
      "Enter third word :  whitefish\n",
      "True\n"
     ]
    }
   ],
   "source": [
    "def dictionary(a,b,c):\n",
    "    d={'a':'bass','b':'salmon','c':'whitefish'}\n",
    "    print('Enter first word : ',a)\n",
    "    print('Enter second word : ',b)\n",
    "    print('Enter third word : ',c)\n",
    "    if (a and b and c) in d.values():\n",
    "        print('True')\n",
    "    else:\n",
    "        print('False')\n",
    "dictionary('bass','salmon','whitefish')"
   ]
  },
  {
   "cell_type": "markdown",
   "metadata": {},
   "source": [
    "# QUESTION 4.17:"
   ]
  },
  {
   "cell_type": "code",
   "execution_count": 16,
   "metadata": {},
   "outputs": [
    {
     "name": "stdout",
     "output_type": "stream",
     "text": [
      "The secret of this message is that it is secret\n",
      "47\n",
      "2\n",
      "The xxxxx of this message is that it is xxxxx\n"
     ]
    }
   ],
   "source": [
    "message='The secret of this message is that it is secret'\n",
    "length=len(message)\n",
    "count=message.count('secret')\n",
    "censored=message.replace('secret','xxxxx')\n",
    "print(message)\n",
    "print(length)\n",
    "print(count)\n",
    "print(censored)"
   ]
  },
  {
   "cell_type": "markdown",
   "metadata": {},
   "source": [
    "# QUESTION 4.18:"
   ]
  },
  {
   "cell_type": "code",
   "execution_count": 17,
   "metadata": {},
   "outputs": [
    {
     "name": "stdout",
     "output_type": "stream",
     "text": [
      "It was the best of times, it was the worst of times      it was the age of wisdom,it was the age of foolishness      it was the epoch of belief,it was the epoch of incredulity       it was...\n"
     ]
    }
   ],
   "source": [
    "s='''It was the best of times, it was the worst of times;it was the age of wisdom,it was the age of foolishness;it was the epoch of belief,it was the epoch of incredulity; it was...'''\n",
    "x=s.replace(';','      ')\n",
    "print(x)\n"
   ]
  },
  {
   "cell_type": "markdown",
   "metadata": {},
   "source": [
    "# QUESTION 4.19:"
   ]
  },
  {
   "cell_type": "code",
   "execution_count": 18,
   "metadata": {},
   "outputs": [
    {
     "name": "stdout",
     "output_type": "stream",
     "text": [
      "Sigel, Marlena Mae\n"
     ]
    }
   ],
   "source": [
    "#A\n",
    "first='Marlena'\n",
    "last='Sigel'\n",
    "middle='Mae'\n",
    "print('{}, {} {}'.format(last,first,middle))"
   ]
  },
  {
   "cell_type": "code",
   "execution_count": 19,
   "metadata": {},
   "outputs": [
    {
     "name": "stdout",
     "output_type": "stream",
     "text": [
      "Sigel, Marlena M.\n"
     ]
    }
   ],
   "source": [
    "#B\n",
    "first='Marlena'\n",
    "last='Sigel'\n",
    "middle='Mae'\n",
    "print('{}, {} {}.'.format(last,first,middle[0]))"
   ]
  },
  {
   "cell_type": "code",
   "execution_count": 20,
   "metadata": {},
   "outputs": [
    {
     "name": "stdout",
     "output_type": "stream",
     "text": [
      "Marlena M. Sigel\n"
     ]
    }
   ],
   "source": [
    "#C\n",
    "first='Marlena'\n",
    "last='Sigel'\n",
    "middle='Mae'\n",
    "print('{} {}. {}'.format(first,middle[0],last))"
   ]
  },
  {
   "cell_type": "code",
   "execution_count": 21,
   "metadata": {},
   "outputs": [
    {
     "name": "stdout",
     "output_type": "stream",
     "text": [
      "M. M. Sigel\n"
     ]
    }
   ],
   "source": [
    "#D\n",
    "first='Marlena'\n",
    "last='Sigel'\n",
    "middle='Mae'\n",
    "print('{}. {}. {}'.format(middle[0],middle[0],last))"
   ]
  },
  {
   "cell_type": "code",
   "execution_count": 22,
   "metadata": {},
   "outputs": [
    {
     "name": "stdout",
     "output_type": "stream",
     "text": [
      "Sigel, M.\n"
     ]
    }
   ],
   "source": [
    "#E\n",
    "first='Marlena'\n",
    "last='Sigel'\n",
    "middle='Mae'\n",
    "print('{}, {}.'.format(last,middle[0]))"
   ]
  },
  {
   "cell_type": "markdown",
   "metadata": {},
   "source": [
    "# QUESTION 4.20:"
   ]
  },
  {
   "cell_type": "code",
   "execution_count": 23,
   "metadata": {},
   "outputs": [
    {
     "name": "stdout",
     "output_type": "stream",
     "text": [
      "From: tim@abc.com \n",
      " To: ton@xyz.org \n",
      " Subject: Hello!\n"
     ]
    }
   ],
   "source": [
    "sender='tim@abc.com'\n",
    "recipient='ton@xyz.org'\n",
    "subject='Hello!'\n",
    "print('From: {} \\n To: {} \\n Subject: {}'.format(sender,recipient,subject))"
   ]
  },
  {
   "cell_type": "markdown",
   "metadata": {},
   "source": [
    "# QUESTION 4.21:"
   ]
  },
  {
   "cell_type": "code",
   "execution_count": 30,
   "metadata": {},
   "outputs": [
    {
     "name": "stdout",
     "output_type": "stream",
     "text": [
      "3.1\n",
      "2.7e+00\n"
     ]
    }
   ],
   "source": [
    "#A\n",
    "from math import e\n",
    "from math import pi\n",
    "print('{:1.1f}'.format(pi))\n",
    "print('{:1.1e}'.format(e))"
   ]
  },
  {
   "cell_type": "code",
   "execution_count": 29,
   "metadata": {},
   "outputs": [
    {
     "name": "stdout",
     "output_type": "stream",
     "text": [
      "3.14\n",
      "2.72e+00\n"
     ]
    }
   ],
   "source": [
    "#B\n",
    "from math import pi\n",
    "from math import e\n",
    "print('{:1.2f}'.format(pi))\n",
    "print('{:1.2e}'.format(e))"
   ]
  },
  {
   "cell_type": "code",
   "execution_count": 27,
   "metadata": {},
   "outputs": [
    {
     "name": "stdout",
     "output_type": "stream",
     "text": [
      "3.141593e+00\n",
      "2.718282e+00\n"
     ]
    }
   ],
   "source": [
    "#C\n",
    "from math import pi\n",
    "from math import e\n",
    "print('{:e}'.format(pi))\n",
    "print('{:e}'.format(e))"
   ]
  },
  {
   "cell_type": "code",
   "execution_count": 31,
   "metadata": {},
   "outputs": [
    {
     "name": "stdout",
     "output_type": "stream",
     "text": [
      "3.14159\n",
      "2.71828\n"
     ]
    }
   ],
   "source": [
    "#D\n",
    "from math import pi\n",
    "from math import e\n",
    "print('{:1.5f}'.format(pi))\n",
    "print('{:1.5f}'.format(e))"
   ]
  },
  {
   "cell_type": "markdown",
   "metadata": {},
   "source": [
    "# QUESTION  4.22:"
   ]
  },
  {
   "cell_type": "code",
   "execution_count": 41,
   "metadata": {},
   "outputs": [
    {
     "data": {
      "text/plain": [
       "'Jan'"
      ]
     },
     "execution_count": 41,
     "metadata": {},
     "output_type": "execute_result"
    }
   ],
   "source": [
    "def month(n):\n",
    "    temp = \"JanFebMarAprMayJunJulAugSepOctNovDec\"\n",
    "    return temp[(n-1)*3:n*3]\n",
    "month(1)"
   ]
  },
  {
   "cell_type": "markdown",
   "metadata": {},
   "source": [
    "# QUESTION 4.23:"
   ]
  },
  {
   "cell_type": "code",
   "execution_count": 42,
   "metadata": {},
   "outputs": [
    {
     "name": "stdout",
     "output_type": "stream",
     "text": [
      "Enter a sentance:  A sample sentence\n",
      "3.5\n"
     ]
    }
   ],
   "source": [
    "def average():\n",
    "    a=3\n",
    "    b=4\n",
    "    x=(a+b)/2\n",
    "    print('Enter a sentance: ','A sample sentence')\n",
    "    print(x)\n",
    "average()"
   ]
  },
  {
   "cell_type": "markdown",
   "metadata": {},
   "source": [
    "# QUESTION 4.24:"
   ]
  },
  {
   "cell_type": "code",
   "execution_count": 43,
   "metadata": {},
   "outputs": [
    {
     "name": "stdout",
     "output_type": "stream",
     "text": [
      "How do you spell winner? \n",
      " I know! I know! \n",
      " H U S K I E S ! \n",
      " And thats how you spell winner! \n",
      " Go Huskies!\n"
     ]
    }
   ],
   "source": [
    "def cheer(Huskies):\n",
    "    a='How do you spell winner'\n",
    "    b='I know! I know'\n",
    "    c='H U S K I E S'\n",
    "    d='And thats how you spell winner'\n",
    "    e='Go Huskies'\n",
    "    print('{}? \\n {}! \\n {} ! \\n {}! \\n {}!'.format(a,b,c,d,e))\n",
    "cheer('Huskies')"
   ]
  },
  {
   "cell_type": "markdown",
   "metadata": {},
   "source": [
    "# QUESTION 4.25:"
   ]
  },
  {
   "cell_type": "code",
   "execution_count": 46,
   "metadata": {},
   "outputs": [
    {
     "name": "stdout",
     "output_type": "stream",
     "text": [
      "a, e, i, o, u appears 2 0 0 0 0\n"
     ]
    }
   ],
   "source": [
    "def vowelcount(x):\n",
    "    vow='AEIOUaeiou'\n",
    "    a = 0\n",
    "    e = 0\n",
    "    y = 0\n",
    "    o = 0\n",
    "    u = 0\n",
    "    for i in x:\n",
    "        if i in vow:\n",
    "            if i == 'a' or i == \"A\":\n",
    "                a += 1\n",
    "            if i == 'e' or i == \"E\":\n",
    "                e += 1\n",
    "            if i == 'i' or i == \"I\":\n",
    "                y += 1\n",
    "            if i == 'o' or i == \"O\":\n",
    "                o += 1\n",
    "            if i == 'u' or i == \"U\":\n",
    "                u += 1\n",
    "    print('a, e, i, o, u appears {} {} {} {} {}'.format(a,e,y,o,u))\n",
    "vowelcount(\"Hamza\")\n"
   ]
  }
 ],
 "metadata": {
  "kernelspec": {
   "display_name": "Python 3",
   "language": "python",
   "name": "python3"
  },
  "language_info": {
   "codemirror_mode": {
    "name": "ipython",
    "version": 3
   },
   "file_extension": ".py",
   "mimetype": "text/x-python",
   "name": "python",
   "nbconvert_exporter": "python",
   "pygments_lexer": "ipython3",
   "version": "3.7.3"
  }
 },
 "nbformat": 4,
 "nbformat_minor": 2
}
